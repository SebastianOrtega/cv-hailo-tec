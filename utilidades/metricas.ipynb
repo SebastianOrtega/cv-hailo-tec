{
 "cells": [
  {
   "cell_type": "code",
   "execution_count": null,
   "metadata": {
    "vscode": {
     "languageId": "plaintext"
    }
   },
   "outputs": [],
   "source": [
    "import numpy as np\n",
    "import seaborn as sns\n",
    "import matplotlib.pyplot as plt\n",
    "from sklearn.metrics import confusion_matrix, precision_score, recall_score, f1_score, accuracy_score\n",
    "import pandas as pd\n",
    "\n",
    "# Datos reales y predichos\n",
    "y_true = np.array([1]*5 + [0]*11)  # 1 = Entrada, 0 = Salida (Reales: 5 entradas, 11 salidas)\n",
    "y_pred = np.array([1]*2 + [0]*10 + [1]*3 + [0])  # Predicciones: 2 entradas, 10 salidas, ajustadas a 16 predicciones\n",
    "\n",
    "# Calcular la matriz de confusión\n",
    "conf_matrix = confusion_matrix(y_true, y_pred)\n",
    "\n",
    "# Calcular métricas\n",
    "accuracy = accuracy_score(y_true, y_pred)\n",
    "precision = precision_score(y_true, y_pred)\n",
    "recall = recall_score(y_true, y_pred)\n",
    "f1 = f1_score(y_true, y_pred)\n",
    "\n",
    "# Graficar la matriz de confusión usando Seaborn\n",
    "plt.figure(figsize=(8,6))\n",
    "sns.heatmap(conf_matrix, annot=True, fmt=\"d\", cmap=\"Blues\", xticklabels=[\"Salida\", \"Entrada\"], yticklabels=[\"Salida\", \"Entrada\"])\n",
    "plt.title(\"Matriz de Confusión\")\n",
    "plt.ylabel('Valor Real')\n",
    "plt.xlabel('Valor Predicho')\n",
    "plt.show()\n",
    "\n",
    "# Crear un DataFrame con las métricas calculadas\n",
    "metrics = {\n",
    "    \"Precisión (Accuracy)\": [accuracy],\n",
    "    \"Precisión (Precision)\": [precision],\n",
    "    \"Sensibilidad (Recall)\": [recall],\n",
    "    \"F1-Score\": [f1]\n",
    "}\n",
    "\n",
    "metrics_df = pd.DataFrame(metrics)\n",
    "\n",
    "# Mostrar las métricas\n",
    "print(metrics_df)\n",
    "\n"
   ]
  }
 ],
 "metadata": {
  "language_info": {
   "name": "python"
  }
 },
 "nbformat": 4,
 "nbformat_minor": 2
}
