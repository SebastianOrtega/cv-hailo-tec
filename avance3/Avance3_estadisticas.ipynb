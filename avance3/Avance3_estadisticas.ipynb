{
  "nbformat": 4,
  "nbformat_minor": 0,
  "metadata": {
    "colab": {
      "provenance": []
    },
    "kernelspec": {
      "name": "python3",
      "display_name": "Python 3"
    },
    "language_info": {
      "name": "python"
    }
  },
  "cells": [
    {
      "cell_type": "code",
      "execution_count": 14,
      "metadata": {
        "id": "l1L3G01iJ-zi"
      },
      "outputs": [],
      "source": [
        "import pandas as pd\n",
        "import seaborn as sns\n",
        "import matplotlib.pyplot as plt\n",
        "from sklearn.metrics import confusion_matrix"
      ]
    },
    {
      "cell_type": "code",
      "source": [
        "data_salidas = {\n",
        "    'Salio': [True, True, True, True, True, True, True, True, True, True, True],\n",
        "    'Direccion Determinada': [True, True, True, False, True, False, True, False, True, True, False]\n",
        "}\n",
        "\n",
        "data_entradas = {\n",
        "    'Entro': [True, True, True, True, True],\n",
        "    'Direccion Determinada': [True, False, False, True, False]\n",
        "}\n",
        "\n",
        "data_deteccion = {\n",
        "    'Entro/Salio': [True, True, True, True, True, True, True, True, True, True, True, True, True, True, True, True],\n",
        "    'Se detecto': [True, True, True, True, False,True, True, True, True,False, True, False, True, True, True, True ]\n",
        "}\n",
        "\n",
        "\n",
        "df_salidas = pd.DataFrame(data_salidas)\n",
        "df_entradas = pd.DataFrame(data_entradas)\n",
        "df_deteccion = pd.DataFrame(data_deteccion)"
      ],
      "metadata": {
        "id": "y8pd8EOGKDho"
      },
      "execution_count": 16,
      "outputs": []
    },
    {
      "cell_type": "code",
      "source": [
        "# Datos para Salidas\n",
        "\n",
        "# Calcular TP y FN\n",
        "TP_salidas = sum((df_salidas['Salio'] == True) & (df_salidas['Direccion Determinada'] == True))\n",
        "FN_salidas = sum((df_salidas['Salio'] == True) & (df_salidas['Direccion Determinada'] == False))\n",
        "\n",
        "# Calcular Recall\n",
        "Recall_salidas = TP_salidas / (TP_salidas + FN_salidas)\n",
        "\n",
        "print(\"Matriz de Confusión para 'Salidas':\")\n",
        "print(f\"Verdaderos Positivos (TP): {TP_salidas}\")\n",
        "print(f\"Falsos Negativos (FN): {FN_salidas}\")\n",
        "print(f\"Recall (Sensibilidad): {Recall_salidas:.2f}\")\n",
        "\n"
      ],
      "metadata": {
        "colab": {
          "base_uri": "https://localhost:8080/"
        },
        "id": "67V8_8cvOVVo",
        "outputId": "9abe3958-28ed-4430-a810-76792fdeffc3"
      },
      "execution_count": 11,
      "outputs": [
        {
          "output_type": "stream",
          "name": "stdout",
          "text": [
            "Matriz de Confusión para 'Salidas':\n",
            "Verdaderos Positivos (TP): 7\n",
            "Falsos Negativos (FN): 4\n",
            "Recall (Sensibilidad): 0.64\n"
          ]
        }
      ]
    },
    {
      "cell_type": "code",
      "source": [
        "# Datos para Entradas\n",
        "\n",
        "# Calcular TP y FN\n",
        "TP_entradas = sum((df_entradas['Entro'] == True) & (df_entradas['Direccion Determinada'] == True))\n",
        "FN_entradas = sum((df_entradas['Entro'] == True) & (df_entradas['Direccion Determinada'] == False))\n",
        "\n",
        "# Calcular Recall\n",
        "Recall_entradas = TP_entradas / (TP_entradas + FN_entradas)\n",
        "\n",
        "print(\"\\nMatriz de Confusión para 'Entradas':\")\n",
        "print(f\"Verdaderos Positivos (TP): {TP_entradas}\")\n",
        "print(f\"Falsos Negativos (FN): {FN_entradas}\")\n",
        "print(f\"Recall (Sensibilidad): {Recall_entradas:.2f}\")\n"
      ],
      "metadata": {
        "colab": {
          "base_uri": "https://localhost:8080/"
        },
        "id": "8QRqK9JWOdLa",
        "outputId": "51972343-14a3-4b77-bc6e-10dffe085147"
      },
      "execution_count": 12,
      "outputs": [
        {
          "output_type": "stream",
          "name": "stdout",
          "text": [
            "\n",
            "Matriz de Confusión para 'Entradas':\n",
            "Verdaderos Positivos (TP): 2\n",
            "Falsos Negativos (FN): 3\n",
            "Recall (Sensibilidad): 0.40\n"
          ]
        }
      ]
    },
    {
      "cell_type": "code",
      "source": [
        "# Datos para Deteccion\n",
        "\n",
        "# Calcular TP y FN\n",
        "TP_deteccion = sum((df_deteccion['Entro/Salio'] == True) & (df_deteccion['Se detecto'] == True))\n",
        "FN_deteccion = sum((df_deteccion['Entro/Salio'] == True) & (df_deteccion['Se detecto'] == False))\n",
        "\n",
        "# Calcular Recall\n",
        "Recall_deteccion = TP_deteccion / (TP_deteccion + FN_deteccion)\n",
        "\n",
        "print(\"\\nMatriz de Confusión para 'Detección General':\")\n",
        "print(f\"Verdaderos Positivos (TP): {TP_deteccion}\")\n",
        "print(f\"Falsos Negativos (FN): {FN_deteccion}\")\n",
        "print(f\"Recall (Sensibilidad): {Recall_deteccion:.2f}\")"
      ],
      "metadata": {
        "colab": {
          "base_uri": "https://localhost:8080/"
        },
        "id": "Qnho95PqOpTN",
        "outputId": "ab188c89-20c5-43a3-989b-62fe43ef5c9d"
      },
      "execution_count": 13,
      "outputs": [
        {
          "output_type": "stream",
          "name": "stdout",
          "text": [
            "\n",
            "Matriz de Confusión para 'Detección General':\n",
            "Verdaderos Positivos (TP): 13\n",
            "Falsos Negativos (FN): 3\n",
            "Recall (Sensibilidad): 0.81\n"
          ]
        }
      ]
    }
  ]
}